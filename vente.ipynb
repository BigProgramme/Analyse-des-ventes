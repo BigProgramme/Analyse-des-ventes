{
 "cells": [
  {
   "cell_type": "code",
   "execution_count": 1,
   "id": "7f040047",
   "metadata": {},
   "outputs": [],
   "source": [
    "import pandas as pd\n",
    "import matplotlib.pyplot as plt\n",
    "import seaborn as sns\n",
    "\n",
    "from sklearn.neighbors import KNeighborsRegressor\n",
    "from sklearn.metrics import mean_squared_error\n",
    "from sklearn.metrics import r2_score\n",
    "\n",
    "\n",
    "import warnings\n",
    "warnings.filterwarnings(\"ignore\")"
   ]
  },
  {
   "cell_type": "markdown",
   "id": "7f30ea53",
   "metadata": {},
   "source": [
    "### DataFrame représentant les ventes de produits(légumes) de 2020 à 2023 d'un supermarché appelé PythonMarket\n",
    "\n",
    "### Le but c'est d'analyser et tirer des conclusions pertinantes pour préparer la nouvelle année 2024 qui arrive à grand pas."
   ]
  },
  {
   "cell_type": "code",
   "execution_count": 2,
   "id": "77e5c541",
   "metadata": {},
   "outputs": [],
   "source": [
    "data1 = pd.read_csv('data_vente/annex2.csv', sep=',')\n",
    "data2 = pd.read_csv('data_vente/annex1.csv', sep=',')"
   ]
  },
  {
   "cell_type": "markdown",
   "id": "92d6faf4",
   "metadata": {},
   "source": [
    "### EXPLORATION DES DONNEES"
   ]
  },
  {
   "cell_type": "code",
   "execution_count": 3,
   "id": "dea139b6",
   "metadata": {},
   "outputs": [
    {
     "data": {
      "text/html": [
       "<div>\n",
       "<style scoped>\n",
       "    .dataframe tbody tr th:only-of-type {\n",
       "        vertical-align: middle;\n",
       "    }\n",
       "\n",
       "    .dataframe tbody tr th {\n",
       "        vertical-align: top;\n",
       "    }\n",
       "\n",
       "    .dataframe thead th {\n",
       "        text-align: right;\n",
       "    }\n",
       "</style>\n",
       "<table border=\"1\" class=\"dataframe\">\n",
       "  <thead>\n",
       "    <tr style=\"text-align: right;\">\n",
       "      <th></th>\n",
       "      <th>Date</th>\n",
       "      <th>Time</th>\n",
       "      <th>Item Code</th>\n",
       "      <th>Quantity Sold (kilo)</th>\n",
       "      <th>Unit Selling Price (RMB/kg)</th>\n",
       "      <th>Sale or Return</th>\n",
       "      <th>Discount (Yes/No)</th>\n",
       "    </tr>\n",
       "  </thead>\n",
       "  <tbody>\n",
       "    <tr>\n",
       "      <th>0</th>\n",
       "      <td>2020-07-01</td>\n",
       "      <td>09:15:07.924</td>\n",
       "      <td>102900005117056</td>\n",
       "      <td>0.396</td>\n",
       "      <td>7.6</td>\n",
       "      <td>sale</td>\n",
       "      <td>No</td>\n",
       "    </tr>\n",
       "    <tr>\n",
       "      <th>1</th>\n",
       "      <td>2020-07-01</td>\n",
       "      <td>09:17:27.295</td>\n",
       "      <td>102900005115960</td>\n",
       "      <td>0.849</td>\n",
       "      <td>3.2</td>\n",
       "      <td>sale</td>\n",
       "      <td>No</td>\n",
       "    </tr>\n",
       "    <tr>\n",
       "      <th>2</th>\n",
       "      <td>2020-07-01</td>\n",
       "      <td>09:17:33.905</td>\n",
       "      <td>102900005117056</td>\n",
       "      <td>0.409</td>\n",
       "      <td>7.6</td>\n",
       "      <td>sale</td>\n",
       "      <td>No</td>\n",
       "    </tr>\n",
       "    <tr>\n",
       "      <th>3</th>\n",
       "      <td>2020-07-01</td>\n",
       "      <td>09:19:45.450</td>\n",
       "      <td>102900005115823</td>\n",
       "      <td>0.421</td>\n",
       "      <td>10.0</td>\n",
       "      <td>sale</td>\n",
       "      <td>No</td>\n",
       "    </tr>\n",
       "    <tr>\n",
       "      <th>4</th>\n",
       "      <td>2020-07-01</td>\n",
       "      <td>09:20:23.686</td>\n",
       "      <td>102900005115908</td>\n",
       "      <td>0.539</td>\n",
       "      <td>8.0</td>\n",
       "      <td>sale</td>\n",
       "      <td>No</td>\n",
       "    </tr>\n",
       "  </tbody>\n",
       "</table>\n",
       "</div>"
      ],
      "text/plain": [
       "         Date          Time        Item Code  Quantity Sold (kilo)  \\\n",
       "0  2020-07-01  09:15:07.924  102900005117056                 0.396   \n",
       "1  2020-07-01  09:17:27.295  102900005115960                 0.849   \n",
       "2  2020-07-01  09:17:33.905  102900005117056                 0.409   \n",
       "3  2020-07-01  09:19:45.450  102900005115823                 0.421   \n",
       "4  2020-07-01  09:20:23.686  102900005115908                 0.539   \n",
       "\n",
       "   Unit Selling Price (RMB/kg) Sale or Return Discount (Yes/No)  \n",
       "0                          7.6           sale                No  \n",
       "1                          3.2           sale                No  \n",
       "2                          7.6           sale                No  \n",
       "3                         10.0           sale                No  \n",
       "4                          8.0           sale                No  "
      ]
     },
     "execution_count": 3,
     "metadata": {},
     "output_type": "execute_result"
    }
   ],
   "source": [
    "data1.head()"
   ]
  },
  {
   "cell_type": "code",
   "execution_count": 4,
   "id": "a346f66d",
   "metadata": {},
   "outputs": [
    {
     "data": {
      "text/html": [
       "<div>\n",
       "<style scoped>\n",
       "    .dataframe tbody tr th:only-of-type {\n",
       "        vertical-align: middle;\n",
       "    }\n",
       "\n",
       "    .dataframe tbody tr th {\n",
       "        vertical-align: top;\n",
       "    }\n",
       "\n",
       "    .dataframe thead th {\n",
       "        text-align: right;\n",
       "    }\n",
       "</style>\n",
       "<table border=\"1\" class=\"dataframe\">\n",
       "  <thead>\n",
       "    <tr style=\"text-align: right;\">\n",
       "      <th></th>\n",
       "      <th>Item Code</th>\n",
       "      <th>Item Name</th>\n",
       "      <th>Category Code</th>\n",
       "      <th>Category Name</th>\n",
       "    </tr>\n",
       "  </thead>\n",
       "  <tbody>\n",
       "    <tr>\n",
       "      <th>0</th>\n",
       "      <td>102900005115168</td>\n",
       "      <td>Niushou Shengcai</td>\n",
       "      <td>1011010101</td>\n",
       "      <td>Flower/Leaf Vegetables</td>\n",
       "    </tr>\n",
       "    <tr>\n",
       "      <th>1</th>\n",
       "      <td>102900005115199</td>\n",
       "      <td>Sichuan Red Cedar</td>\n",
       "      <td>1011010101</td>\n",
       "      <td>Flower/Leaf Vegetables</td>\n",
       "    </tr>\n",
       "    <tr>\n",
       "      <th>2</th>\n",
       "      <td>102900005115625</td>\n",
       "      <td>Local Xiaomao Cabbage</td>\n",
       "      <td>1011010101</td>\n",
       "      <td>Flower/Leaf Vegetables</td>\n",
       "    </tr>\n",
       "    <tr>\n",
       "      <th>3</th>\n",
       "      <td>102900005115748</td>\n",
       "      <td>White Caitai</td>\n",
       "      <td>1011010101</td>\n",
       "      <td>Flower/Leaf Vegetables</td>\n",
       "    </tr>\n",
       "    <tr>\n",
       "      <th>4</th>\n",
       "      <td>102900005115762</td>\n",
       "      <td>Amaranth</td>\n",
       "      <td>1011010101</td>\n",
       "      <td>Flower/Leaf Vegetables</td>\n",
       "    </tr>\n",
       "  </tbody>\n",
       "</table>\n",
       "</div>"
      ],
      "text/plain": [
       "         Item Code              Item Name  Category Code  \\\n",
       "0  102900005115168       Niushou Shengcai     1011010101   \n",
       "1  102900005115199      Sichuan Red Cedar     1011010101   \n",
       "2  102900005115625  Local Xiaomao Cabbage     1011010101   \n",
       "3  102900005115748           White Caitai     1011010101   \n",
       "4  102900005115762               Amaranth     1011010101   \n",
       "\n",
       "            Category Name  \n",
       "0  Flower/Leaf Vegetables  \n",
       "1  Flower/Leaf Vegetables  \n",
       "2  Flower/Leaf Vegetables  \n",
       "3  Flower/Leaf Vegetables  \n",
       "4  Flower/Leaf Vegetables  "
      ]
     },
     "execution_count": 4,
     "metadata": {},
     "output_type": "execute_result"
    }
   ],
   "source": [
    "data2.head()"
   ]
  },
  {
   "cell_type": "markdown",
   "id": "2f046b96",
   "metadata": {},
   "source": [
    "On remarque que les deux datasets ont en commun la colonne 'Item Code' qui a les mêmes valeurs dans les deux datasets.\n",
    "\n",
    "Nous allons donc les fusionner pour travailler sur un seul dataset"
   ]
  },
  {
   "cell_type": "code",
   "execution_count": 5,
   "id": "1971af5d",
   "metadata": {},
   "outputs": [
    {
     "data": {
      "text/html": [
       "<div>\n",
       "<style scoped>\n",
       "    .dataframe tbody tr th:only-of-type {\n",
       "        vertical-align: middle;\n",
       "    }\n",
       "\n",
       "    .dataframe tbody tr th {\n",
       "        vertical-align: top;\n",
       "    }\n",
       "\n",
       "    .dataframe thead th {\n",
       "        text-align: right;\n",
       "    }\n",
       "</style>\n",
       "<table border=\"1\" class=\"dataframe\">\n",
       "  <thead>\n",
       "    <tr style=\"text-align: right;\">\n",
       "      <th></th>\n",
       "      <th>Date</th>\n",
       "      <th>Time</th>\n",
       "      <th>Item Code</th>\n",
       "      <th>Quantity Sold (kilo)</th>\n",
       "      <th>Unit Selling Price (RMB/kg)</th>\n",
       "      <th>Sale or Return</th>\n",
       "      <th>Discount (Yes/No)</th>\n",
       "      <th>Item Name</th>\n",
       "      <th>Category Code</th>\n",
       "      <th>Category Name</th>\n",
       "    </tr>\n",
       "  </thead>\n",
       "  <tbody>\n",
       "    <tr>\n",
       "      <th>0</th>\n",
       "      <td>2020-07-01</td>\n",
       "      <td>09:15:07.924</td>\n",
       "      <td>102900005117056</td>\n",
       "      <td>0.396</td>\n",
       "      <td>7.6</td>\n",
       "      <td>sale</td>\n",
       "      <td>No</td>\n",
       "      <td>Paopaojiao (Jingpin)</td>\n",
       "      <td>1011010504</td>\n",
       "      <td>Capsicum</td>\n",
       "    </tr>\n",
       "    <tr>\n",
       "      <th>1</th>\n",
       "      <td>2020-07-01</td>\n",
       "      <td>09:17:33.905</td>\n",
       "      <td>102900005117056</td>\n",
       "      <td>0.409</td>\n",
       "      <td>7.6</td>\n",
       "      <td>sale</td>\n",
       "      <td>No</td>\n",
       "      <td>Paopaojiao (Jingpin)</td>\n",
       "      <td>1011010504</td>\n",
       "      <td>Capsicum</td>\n",
       "    </tr>\n",
       "    <tr>\n",
       "      <th>2</th>\n",
       "      <td>2020-07-01</td>\n",
       "      <td>09:21:55.556</td>\n",
       "      <td>102900005117056</td>\n",
       "      <td>0.277</td>\n",
       "      <td>7.6</td>\n",
       "      <td>sale</td>\n",
       "      <td>No</td>\n",
       "      <td>Paopaojiao (Jingpin)</td>\n",
       "      <td>1011010504</td>\n",
       "      <td>Capsicum</td>\n",
       "    </tr>\n",
       "    <tr>\n",
       "      <th>3</th>\n",
       "      <td>2020-07-01</td>\n",
       "      <td>09:22:01.274</td>\n",
       "      <td>102900005117056</td>\n",
       "      <td>0.132</td>\n",
       "      <td>7.6</td>\n",
       "      <td>sale</td>\n",
       "      <td>No</td>\n",
       "      <td>Paopaojiao (Jingpin)</td>\n",
       "      <td>1011010504</td>\n",
       "      <td>Capsicum</td>\n",
       "    </tr>\n",
       "    <tr>\n",
       "      <th>4</th>\n",
       "      <td>2020-07-01</td>\n",
       "      <td>09:41:09.342</td>\n",
       "      <td>102900005117056</td>\n",
       "      <td>0.198</td>\n",
       "      <td>7.6</td>\n",
       "      <td>sale</td>\n",
       "      <td>No</td>\n",
       "      <td>Paopaojiao (Jingpin)</td>\n",
       "      <td>1011010504</td>\n",
       "      <td>Capsicum</td>\n",
       "    </tr>\n",
       "  </tbody>\n",
       "</table>\n",
       "</div>"
      ],
      "text/plain": [
       "         Date          Time        Item Code  Quantity Sold (kilo)  \\\n",
       "0  2020-07-01  09:15:07.924  102900005117056                 0.396   \n",
       "1  2020-07-01  09:17:33.905  102900005117056                 0.409   \n",
       "2  2020-07-01  09:21:55.556  102900005117056                 0.277   \n",
       "3  2020-07-01  09:22:01.274  102900005117056                 0.132   \n",
       "4  2020-07-01  09:41:09.342  102900005117056                 0.198   \n",
       "\n",
       "   Unit Selling Price (RMB/kg) Sale or Return Discount (Yes/No)  \\\n",
       "0                          7.6           sale                No   \n",
       "1                          7.6           sale                No   \n",
       "2                          7.6           sale                No   \n",
       "3                          7.6           sale                No   \n",
       "4                          7.6           sale                No   \n",
       "\n",
       "              Item Name  Category Code Category Name  \n",
       "0  Paopaojiao (Jingpin)     1011010504      Capsicum  \n",
       "1  Paopaojiao (Jingpin)     1011010504      Capsicum  \n",
       "2  Paopaojiao (Jingpin)     1011010504      Capsicum  \n",
       "3  Paopaojiao (Jingpin)     1011010504      Capsicum  \n",
       "4  Paopaojiao (Jingpin)     1011010504      Capsicum  "
      ]
     },
     "execution_count": 5,
     "metadata": {},
     "output_type": "execute_result"
    }
   ],
   "source": [
    "merged_data_sell = pd.merge(data1, data2)\n",
    "merged_data_sell.head()"
   ]
  },
  {
   "cell_type": "markdown",
   "id": "819745ea",
   "metadata": {},
   "source": [
    "## Maintenant on va travailler sur le dataset merged_data_sell."
   ]
  },
  {
   "cell_type": "raw",
   "id": "f0a4cca9",
   "metadata": {},
   "source": [
    "Notre Df est une base de données des ventes de 3 années des produits, principalement des légumes, et donc nous allons analyser ces données pour en tirer des conclusions et/ou trouver nos forces de ventes pour s'appuyer dessus et améliorer nos ventes."
   ]
  },
  {
   "cell_type": "markdown",
   "id": "f2fa576c",
   "metadata": {},
   "source": [
    "### Exploration de merged_data_sell"
   ]
  },
  {
   "cell_type": "markdown",
   "id": "207914d7",
   "metadata": {},
   "source": [
    "Nombre de lignes et de colonnes:"
   ]
  },
  {
   "cell_type": "code",
   "execution_count": 6,
   "id": "1a1cd52d",
   "metadata": {},
   "outputs": [
    {
     "name": "stdout",
     "output_type": "stream",
     "text": [
      "Rows:  878503 \n",
      " Columns:  10\n"
     ]
    }
   ],
   "source": [
    "def count_rows_and_columns(data = merged_data_sell):\n",
    "    rows = data.shape[0]\n",
    "    columns = data.shape[1]\n",
    "    \n",
    "    print('Rows: ', rows,  '\\n', 'Columns: ', columns )\n",
    "    \n",
    "    return \n",
    "\n",
    "count_rows_and_columns()"
   ]
  },
  {
   "cell_type": "markdown",
   "id": "a808aa57",
   "metadata": {},
   "source": [
    "Vérification des valeurs manquantes:"
   ]
  },
  {
   "cell_type": "code",
   "execution_count": 7,
   "id": "0192fe1f",
   "metadata": {},
   "outputs": [
    {
     "data": {
      "text/plain": [
       "Date                           0\n",
       "Time                           0\n",
       "Item Code                      0\n",
       "Quantity Sold (kilo)           0\n",
       "Unit Selling Price (RMB/kg)    0\n",
       "Sale or Return                 0\n",
       "Discount (Yes/No)              0\n",
       "Item Name                      0\n",
       "Category Code                  0\n",
       "Category Name                  0\n",
       "dtype: int64"
      ]
     },
     "execution_count": 7,
     "metadata": {},
     "output_type": "execute_result"
    }
   ],
   "source": [
    "merged_data_sell.isnull().sum()"
   ]
  },
  {
   "cell_type": "raw",
   "id": "1e5676ff",
   "metadata": {},
   "source": [
    "On est bien , pas de valeurs manquantes"
   ]
  },
  {
   "cell_type": "markdown",
   "id": "3c824ecd",
   "metadata": {},
   "source": [
    "## Vérification des types de données"
   ]
  },
  {
   "cell_type": "code",
   "execution_count": 8,
   "id": "8234b341",
   "metadata": {},
   "outputs": [
    {
     "name": "stdout",
     "output_type": "stream",
     "text": [
      "<class 'pandas.core.frame.DataFrame'>\n",
      "Int64Index: 878503 entries, 0 to 878502\n",
      "Data columns (total 10 columns):\n",
      " #   Column                       Non-Null Count   Dtype  \n",
      "---  ------                       --------------   -----  \n",
      " 0   Date                         878503 non-null  object \n",
      " 1   Time                         878503 non-null  object \n",
      " 2   Item Code                    878503 non-null  int64  \n",
      " 3   Quantity Sold (kilo)         878503 non-null  float64\n",
      " 4   Unit Selling Price (RMB/kg)  878503 non-null  float64\n",
      " 5   Sale or Return               878503 non-null  object \n",
      " 6   Discount (Yes/No)            878503 non-null  object \n",
      " 7   Item Name                    878503 non-null  object \n",
      " 8   Category Code                878503 non-null  int64  \n",
      " 9   Category Name                878503 non-null  object \n",
      "dtypes: float64(2), int64(2), object(6)\n",
      "memory usage: 73.7+ MB\n"
     ]
    }
   ],
   "source": [
    "merged_data_sell.info()"
   ]
  },
  {
   "cell_type": "markdown",
   "id": "855c8e7c",
   "metadata": {},
   "source": [
    "## Convertion de la colonne data en type date"
   ]
  },
  {
   "cell_type": "code",
   "execution_count": 9,
   "id": "b4ae6a42",
   "metadata": {},
   "outputs": [],
   "source": [
    "merged_data_sell['Date'] = pd.to_datetime(merged_data_sell['Date'])"
   ]
  },
  {
   "cell_type": "markdown",
   "id": "c302c0d6",
   "metadata": {},
   "source": [
    "# CALCUL ET EXPLORATION STATISQUE"
   ]
  },
  {
   "cell_type": "markdown",
   "id": "f0212bf9",
   "metadata": {},
   "source": [
    "### Etude de la corrélation entre les variables:"
   ]
  },
  {
   "cell_type": "code",
   "execution_count": 10,
   "id": "c3b072ad",
   "metadata": {},
   "outputs": [
    {
     "data": {
      "image/png": "[encoded data removed]",
      "text/plain": [
       "<Figure size 640x480 with 2 Axes>"
      ]
     },
     "metadata": {},
     "output_type": "display_data"
    }
   ],
   "source": [
    "sns.heatmap(merged_data_sell.corr(), annot=True, square=True, cmap='coolwarm', linewidths=.10)\n",
    "plt.title('Matrix de corrélation')\n",
    "plt.show()"
   ]
  },
  {
   "cell_type": "markdown",
   "id": "adfac474",
   "metadata": {},
   "source": [
    "#### On remarque des coorrélations positives entre #Quantité et #Code du produit, aussi entre la #catégory et le produit. La catégorie du produit et le code des produits sont aussi corrélés positivement. Les autres variables sont corrélées négativement"
   ]
  },
  {
   "cell_type": "markdown",
   "id": "dd253c10",
   "metadata": {},
   "source": [
    "### Description des stats:\n"
   ]
  },
  {
   "cell_type": "code",
   "execution_count": 11,
   "id": "c91005ce",
   "metadata": {},
   "outputs": [
    {
     "data": {
      "text/html": [
       "<div>\n",
       "<style scoped>\n",
       "    .dataframe tbody tr th:only-of-type {\n",
       "        vertical-align: middle;\n",
       "    }\n",
       "\n",
       "    .dataframe tbody tr th {\n",
       "        vertical-align: top;\n",
       "    }\n",
       "\n",
       "    .dataframe thead th {\n",
       "        text-align: right;\n",
       "    }\n",
       "</style>\n",
       "<table border=\"1\" class=\"dataframe\">\n",
       "  <thead>\n",
       "    <tr style=\"text-align: right;\">\n",
       "      <th></th>\n",
       "      <th>Item Code</th>\n",
       "      <th>Quantity Sold (kilo)</th>\n",
       "      <th>Unit Selling Price (RMB/kg)</th>\n",
       "      <th>Category Code</th>\n",
       "    </tr>\n",
       "  </thead>\n",
       "  <tbody>\n",
       "    <tr>\n",
       "      <th>count</th>\n",
       "      <td>8.785030e+05</td>\n",
       "      <td>878503.000000</td>\n",
       "      <td>878503.000000</td>\n",
       "      <td>8.785030e+05</td>\n",
       "    </tr>\n",
       "    <tr>\n",
       "      <th>mean</th>\n",
       "      <td>1.030313e+14</td>\n",
       "      <td>0.536112</td>\n",
       "      <td>8.917144</td>\n",
       "      <td>1.011010e+09</td>\n",
       "    </tr>\n",
       "    <tr>\n",
       "      <th>std</th>\n",
       "      <td>7.174368e+11</td>\n",
       "      <td>0.400087</td>\n",
       "      <td>6.311265</td>\n",
       "      <td>2.582929e+02</td>\n",
       "    </tr>\n",
       "    <tr>\n",
       "      <th>min</th>\n",
       "      <td>1.029000e+14</td>\n",
       "      <td>-9.082000</td>\n",
       "      <td>0.100000</td>\n",
       "      <td>1.011010e+09</td>\n",
       "    </tr>\n",
       "    <tr>\n",
       "      <th>25%</th>\n",
       "      <td>1.029000e+14</td>\n",
       "      <td>0.290000</td>\n",
       "      <td>4.900000</td>\n",
       "      <td>1.011010e+09</td>\n",
       "    </tr>\n",
       "    <tr>\n",
       "      <th>50%</th>\n",
       "      <td>1.029000e+14</td>\n",
       "      <td>0.435000</td>\n",
       "      <td>7.900000</td>\n",
       "      <td>1.011010e+09</td>\n",
       "    </tr>\n",
       "    <tr>\n",
       "      <th>75%</th>\n",
       "      <td>1.029000e+14</td>\n",
       "      <td>0.742000</td>\n",
       "      <td>10.800000</td>\n",
       "      <td>1.011011e+09</td>\n",
       "    </tr>\n",
       "    <tr>\n",
       "      <th>max</th>\n",
       "      <td>1.069740e+14</td>\n",
       "      <td>160.000000</td>\n",
       "      <td>119.900000</td>\n",
       "      <td>1.011011e+09</td>\n",
       "    </tr>\n",
       "  </tbody>\n",
       "</table>\n",
       "</div>"
      ],
      "text/plain": [
       "          Item Code  Quantity Sold (kilo)  Unit Selling Price (RMB/kg)  \\\n",
       "count  8.785030e+05         878503.000000                878503.000000   \n",
       "mean   1.030313e+14              0.536112                     8.917144   \n",
       "std    7.174368e+11              0.400087                     6.311265   \n",
       "min    1.029000e+14             -9.082000                     0.100000   \n",
       "25%    1.029000e+14              0.290000                     4.900000   \n",
       "50%    1.029000e+14              0.435000                     7.900000   \n",
       "75%    1.029000e+14              0.742000                    10.800000   \n",
       "max    1.069740e+14            160.000000                   119.900000   \n",
       "\n",
       "       Category Code  \n",
       "count   8.785030e+05  \n",
       "mean    1.011010e+09  \n",
       "std     2.582929e+02  \n",
       "min     1.011010e+09  \n",
       "25%     1.011010e+09  \n",
       "50%     1.011010e+09  \n",
       "75%     1.011011e+09  \n",
       "max     1.011011e+09  "
      ]
     },
     "execution_count": 11,
     "metadata": {},
     "output_type": "execute_result"
    }
   ],
   "source": [
    "merged_data_sell.describe()"
   ]
  },
  {
   "cell_type": "raw",
   "id": "67287a01",
   "metadata": {},
   "source": [
    " Notre échantillon est bien cylindrique, il ne manque aucune valeur.\n",
    "\n",
    "1- On remarque aussi que le poids moyen des produits vendus est de 0.536112 Kg et le maximum est de 160 Kg\n",
    "\n",
    "2- Prix de vente unitaire par Kg est de 6.311265€  et le maximum est de 119.90€"
   ]
  },
  {
   "cell_type": "markdown",
   "id": "2e3df4ce",
   "metadata": {},
   "source": [
    "## Analyse de données et visualisation"
   ]
  },
  {
   "cell_type": "raw",
   "id": "ff1e990b",
   "metadata": {},
   "source": [
    "Trouvons la quantité des produits par catégories"
   ]
  },
  {
   "cell_type": "code",
   "execution_count": 12,
   "id": "e0522a38",
   "metadata": {},
   "outputs": [],
   "source": [
    "## Je définis les couleurs qe je vais utiliser sur mes visualisations.\n",
    "\n",
    "my_colors = {\n",
    "    'rouge': '#FF0000',     # Rouge\n",
    "    'bleu': '#0000FF',      # Bleu\n",
    "    'vert': '#00FF00',      # Vert\n",
    "    'jaune': '#FFFF00',     # Jaune\n",
    "    'orange': '#FFA500',    # Orange\n",
    "    'violet': '#800080',    # Violet\n",
    "    'rose': '#FFC0CB',      # Rose\n",
    "    'gris': '#808080',      # Gris\n",
    "    'cyan': '#00FFFF',      # Cyan\n",
    "    'magenta': '#FF00FF',   # Magenta\n",
    "}\n",
    "color = my_colors.values()"
   ]
  },
  {
   "cell_type": "code",
   "execution_count": 13,
   "id": "cb317117",
   "metadata": {},
   "outputs": [
    {
     "data": {
      "text/plain": [
       "Flower/Leaf Vegetables         331968\n",
       "Capsicum                       207996\n",
       "Edible Mushroom                148424\n",
       "Cabbage                         86570\n",
       "Aquatic Tuberous Vegetables     58647\n",
       "Solanum                         44898\n",
       "Name: Category Name, dtype: int64"
      ]
     },
     "execution_count": 13,
     "metadata": {},
     "output_type": "execute_result"
    }
   ],
   "source": [
    "count_product_category = merged_data_sell['Category Name'].value_counts()\n",
    "count_product_category"
   ]
  },
  {
   "cell_type": "markdown",
   "id": "d97b66a6",
   "metadata": {},
   "source": [
    "### On peut le voir visuellement, c'est plus simple"
   ]
  },
  {
   "cell_type": "code",
   "execution_count": 14,
   "id": "109c1e7c",
   "metadata": {},
   "outputs": [
    {
     "data": {
      "image/png": "[encoded data removed]",
      "text/plain": [
       "<Figure size 1200x500 with 1 Axes>"
      ]
     },
     "metadata": {},
     "output_type": "display_data"
    }
   ],
   "source": [
    "figure = plt.figure(figsize=(12,5))\n",
    "\n",
    "graphe= figure.add_subplot()\n",
    "\n",
    "x_values = count_product_category.index\n",
    "y_values = count_product_category.values\n",
    "\n",
    "\n",
    "graphe.bar(x_values, y_values, color = color)\n",
    "#graphe.plot(x_values, y_values, color='red')\n",
    "plt.title('Quantié des produits par catégories')\n",
    "plt.xlabel('Catégories')\n",
    "plt.ylabel('Quantité')\n",
    "plt.show()"
   ]
  },
  {
   "cell_type": "markdown",
   "id": "95567977",
   "metadata": {},
   "source": [
    "### Essayons de voir les 20 produits les plus vendus"
   ]
  },
  {
   "cell_type": "code",
   "execution_count": 15,
   "id": "41f1803b",
   "metadata": {},
   "outputs": [
    {
     "data": {
      "text/html": [
       "<div>\n",
       "<style scoped>\n",
       "    .dataframe tbody tr th:only-of-type {\n",
       "        vertical-align: middle;\n",
       "    }\n",
       "\n",
       "    .dataframe tbody tr th {\n",
       "        vertical-align: top;\n",
       "    }\n",
       "\n",
       "    .dataframe thead th {\n",
       "        text-align: right;\n",
       "    }\n",
       "</style>\n",
       "<table border=\"1\" class=\"dataframe\">\n",
       "  <thead>\n",
       "    <tr style=\"text-align: right;\">\n",
       "      <th></th>\n",
       "      <th>Date</th>\n",
       "      <th>Time</th>\n",
       "      <th>Item Code</th>\n",
       "      <th>Quantity Sold (kilo)</th>\n",
       "      <th>Unit Selling Price (RMB/kg)</th>\n",
       "      <th>Sale or Return</th>\n",
       "      <th>Discount (Yes/No)</th>\n",
       "      <th>Item Name</th>\n",
       "      <th>Category Code</th>\n",
       "      <th>Category Name</th>\n",
       "    </tr>\n",
       "  </thead>\n",
       "  <tbody>\n",
       "    <tr>\n",
       "      <th>0</th>\n",
       "      <td>2020-07-01</td>\n",
       "      <td>09:15:07.924</td>\n",
       "      <td>102900005117056</td>\n",
       "      <td>0.396</td>\n",
       "      <td>7.6</td>\n",
       "      <td>sale</td>\n",
       "      <td>No</td>\n",
       "      <td>Paopaojiao (Jingpin)</td>\n",
       "      <td>1011010504</td>\n",
       "      <td>Capsicum</td>\n",
       "    </tr>\n",
       "    <tr>\n",
       "      <th>1</th>\n",
       "      <td>2020-07-01</td>\n",
       "      <td>09:17:33.905</td>\n",
       "      <td>102900005117056</td>\n",
       "      <td>0.409</td>\n",
       "      <td>7.6</td>\n",
       "      <td>sale</td>\n",
       "      <td>No</td>\n",
       "      <td>Paopaojiao (Jingpin)</td>\n",
       "      <td>1011010504</td>\n",
       "      <td>Capsicum</td>\n",
       "    </tr>\n",
       "    <tr>\n",
       "      <th>2</th>\n",
       "      <td>2020-07-01</td>\n",
       "      <td>09:21:55.556</td>\n",
       "      <td>102900005117056</td>\n",
       "      <td>0.277</td>\n",
       "      <td>7.6</td>\n",
       "      <td>sale</td>\n",
       "      <td>No</td>\n",
       "      <td>Paopaojiao (Jingpin)</td>\n",
       "      <td>1011010504</td>\n",
       "      <td>Capsicum</td>\n",
       "    </tr>\n",
       "    <tr>\n",
       "      <th>3</th>\n",
       "      <td>2020-07-01</td>\n",
       "      <td>09:22:01.274</td>\n",
       "      <td>102900005117056</td>\n",
       "      <td>0.132</td>\n",
       "      <td>7.6</td>\n",
       "      <td>sale</td>\n",
       "      <td>No</td>\n",
       "      <td>Paopaojiao (Jingpin)</td>\n",
       "      <td>1011010504</td>\n",
       "      <td>Capsicum</td>\n",
       "    </tr>\n",
       "    <tr>\n",
       "      <th>4</th>\n",
       "      <td>2020-07-01</td>\n",
       "      <td>09:41:09.342</td>\n",
       "      <td>102900005117056</td>\n",
       "      <td>0.198</td>\n",
       "      <td>7.6</td>\n",
       "      <td>sale</td>\n",
       "      <td>No</td>\n",
       "      <td>Paopaojiao (Jingpin)</td>\n",
       "      <td>1011010504</td>\n",
       "      <td>Capsicum</td>\n",
       "    </tr>\n",
       "  </tbody>\n",
       "</table>\n",
       "</div>"
      ],
      "text/plain": [
       "        Date          Time        Item Code  Quantity Sold (kilo)  \\\n",
       "0 2020-07-01  09:15:07.924  102900005117056                 0.396   \n",
       "1 2020-07-01  09:17:33.905  102900005117056                 0.409   \n",
       "2 2020-07-01  09:21:55.556  102900005117056                 0.277   \n",
       "3 2020-07-01  09:22:01.274  102900005117056                 0.132   \n",
       "4 2020-07-01  09:41:09.342  102900005117056                 0.198   \n",
       "\n",
       "   Unit Selling Price (RMB/kg) Sale or Return Discount (Yes/No)  \\\n",
       "0                          7.6           sale                No   \n",
       "1                          7.6           sale                No   \n",
       "2                          7.6           sale                No   \n",
       "3                          7.6           sale                No   \n",
       "4                          7.6           sale                No   \n",
       "\n",
       "              Item Name  Category Code Category Name  \n",
       "0  Paopaojiao (Jingpin)     1011010504      Capsicum  \n",
       "1  Paopaojiao (Jingpin)     1011010504      Capsicum  \n",
       "2  Paopaojiao (Jingpin)     1011010504      Capsicum  \n",
       "3  Paopaojiao (Jingpin)     1011010504      Capsicum  \n",
       "4  Paopaojiao (Jingpin)     1011010504      Capsicum  "
      ]
     },
     "execution_count": 15,
     "metadata": {},
     "output_type": "execute_result"
    }
   ],
   "source": [
    "# Récupérons uniquement les produits vendus \n",
    "data_product_sales = merged_data_sell[merged_data_sell['Sale or Return'] == 'sale']\n",
    "data_product_sales.head()\n"
   ]
  },
  {
   "cell_type": "code",
   "execution_count": 16,
   "id": "13f8e694",
   "metadata": {},
   "outputs": [
    {
     "data": {
      "text/plain": [
       "Item Name\n",
       "7 Colour Pepper (1)         263.192\n",
       "7 Colour Pepper (2)         370.209\n",
       "7 Colour Pepper (Bag)        18.000\n",
       "Agaricus Bisporus (Bag)      10.000\n",
       "Agaricus Bisporus (Box)    4233.000\n",
       "                             ...   \n",
       "Zhijiang Red Bolt          4962.956\n",
       "Zhijiang Red Bolt (Bag)     313.000\n",
       "Zhimaxiancai                  9.381\n",
       "Zhuyecai                   7246.958\n",
       "Zhuyecai (Bag)             1077.000\n",
       "Name: Quantity Sold (kilo), Length: 242, dtype: float64"
      ]
     },
     "execution_count": 16,
     "metadata": {},
     "output_type": "execute_result"
    }
   ],
   "source": [
    "## Regroupons les produits vendus par leur nom et calculons la quantité totale\n",
    "\n",
    "total_quantity_by_product = data_product_sales.groupby('Item Name')['Quantity Sold (kilo)'].sum()\n",
    "\n",
    "total_quantity_by_product"
   ]
  },
  {
   "cell_type": "markdown",
   "id": "ff4e9d95",
   "metadata": {},
   "source": [
    "#### Trions ces données par ordre croissant des quantités\n"
   ]
  },
  {
   "cell_type": "code",
   "execution_count": 17,
   "id": "719292cb",
   "metadata": {},
   "outputs": [
    {
     "data": {
      "text/plain": [
       "Item Name\n",
       "Wuhu Green Pepper (1)    28181.741\n",
       "Broccoli                 27556.616\n",
       "Net Lotus Root (1)       27166.459\n",
       "Chinese Cabbage          20905.257\n",
       "Yunnan Shengcai          15915.422\n",
       "                           ...    \n",
       "Ganlanye                     0.943\n",
       "Red Coral (Leaf)             0.682\n",
       "Purple Cabbage (2)           0.615\n",
       "Red Oak Leaf                 0.419\n",
       "Fruit Pepper (Orange)        0.415\n",
       "Name: Quantity Sold (kilo), Length: 242, dtype: float64"
      ]
     },
     "execution_count": 17,
     "metadata": {},
     "output_type": "execute_result"
    }
   ],
   "source": [
    "total_quantity_by_product = total_quantity_by_product.sort_values(ascending = False)\n",
    "total_quantity_by_product"
   ]
  },
  {
   "cell_type": "code",
   "execution_count": 18,
   "id": "1e452bc6",
   "metadata": {},
   "outputs": [
    {
     "data": {
      "image/png": "[encoded data removed]",
      "text/plain": [
       "<Figure size 640x480 with 1 Axes>"
      ]
     },
     "metadata": {},
     "output_type": "display_data"
    }
   ],
   "source": [
    "## Récupérons les 20 Meilleurs produits vendus:\n",
    "top_20_products = total_quantity_by_product.head(20)\n",
    "\n",
    "plt.bar(top_20_products.index, top_20_products.values, color = color)\n",
    "plt.plot(top_20_products.index, top_20_products.values, color = 'blue', marker='o')\n",
    "\n",
    "plt.title('Top 20 produits vendus par quantités')\n",
    "plt.xlabel('Produits Name')\n",
    "plt.ylabel('Quantity')\n",
    "\n",
    "plt.xticks(rotation=90)\n",
    "plt.show()"
   ]
  },
  {
   "cell_type": "markdown",
   "id": "b0db08fc",
   "metadata": {},
   "source": [
    "#### Regardons le chiffre d'affaires \n",
    "#### On sait que le Chiffre d'affaire = quantité * prix unitaire"
   ]
  },
  {
   "cell_type": "code",
   "execution_count": 19,
   "id": "3271f4b6",
   "metadata": {},
   "outputs": [],
   "source": [
    "data_product_sales['sales(€)'] = data_product_sales['Quantity Sold (kilo)'] * data_product_sales['Unit Selling Price (RMB/kg)']"
   ]
  },
  {
   "cell_type": "code",
   "execution_count": 20,
   "id": "6b154e91",
   "metadata": {},
   "outputs": [
    {
     "name": "stdout",
     "output_type": "stream",
     "text": [
      "L'entreprise a eu un total de vente de :  3372023.3423 € en 4 ans\n"
     ]
    }
   ],
   "source": [
    "def total_sold(df = data_product_sales):\n",
    "    return df['sales(€)'].sum()\n",
    "\n",
    "print('L\\'entreprise a eu un total de vente de : ', total_sold(),'€ en 4 ans')"
   ]
  },
  {
   "cell_type": "markdown",
   "id": "9eec8a28",
   "metadata": {},
   "source": [
    "## ET Si on analysait les top 20 produits qui nous ont rapportés plus d'argent ? "
   ]
  },
  {
   "cell_type": "code",
   "execution_count": 21,
   "id": "1d381f0c",
   "metadata": {},
   "outputs": [
    {
     "data": {
      "text/html": [
       "<div>\n",
       "<style scoped>\n",
       "    .dataframe tbody tr th:only-of-type {\n",
       "        vertical-align: middle;\n",
       "    }\n",
       "\n",
       "    .dataframe tbody tr th {\n",
       "        vertical-align: top;\n",
       "    }\n",
       "\n",
       "    .dataframe thead th {\n",
       "        text-align: right;\n",
       "    }\n",
       "</style>\n",
       "<table border=\"1\" class=\"dataframe\">\n",
       "  <thead>\n",
       "    <tr style=\"text-align: right;\">\n",
       "      <th></th>\n",
       "      <th>Item Name</th>\n",
       "      <th>sales(€)</th>\n",
       "    </tr>\n",
       "  </thead>\n",
       "  <tbody>\n",
       "    <tr>\n",
       "      <th>24</th>\n",
       "      <td>Broccoli</td>\n",
       "      <td>270067.2656</td>\n",
       "    </tr>\n",
       "    <tr>\n",
       "      <th>136</th>\n",
       "      <td>Net Lotus Root (1)</td>\n",
       "      <td>211769.9397</td>\n",
       "    </tr>\n",
       "    <tr>\n",
       "      <th>223</th>\n",
       "      <td>Xixia Mushroom (1)</td>\n",
       "      <td>211356.7198</td>\n",
       "    </tr>\n",
       "    <tr>\n",
       "      <th>209</th>\n",
       "      <td>Wuhu Green Pepper (1)</td>\n",
       "      <td>205219.9385</td>\n",
       "    </tr>\n",
       "    <tr>\n",
       "      <th>233</th>\n",
       "      <td>Yunnan Shengcai</td>\n",
       "      <td>129797.0675</td>\n",
       "    </tr>\n",
       "  </tbody>\n",
       "</table>\n",
       "</div>"
      ],
      "text/plain": [
       "                 Item Name     sales(€)\n",
       "24                Broccoli  270067.2656\n",
       "136     Net Lotus Root (1)  211769.9397\n",
       "223     Xixia Mushroom (1)  211356.7198\n",
       "209  Wuhu Green Pepper (1)  205219.9385\n",
       "233        Yunnan Shengcai  129797.0675"
      ]
     },
     "execution_count": 21,
     "metadata": {},
     "output_type": "execute_result"
    }
   ],
   "source": [
    "## On fait un groupby \n",
    "top_sold_product = data_product_sales.groupby('Item Name')['sales(€)'].sum().reset_index()\n",
    "\n",
    "\n",
    "## Trions ce resultat par ordre croissant des ventes en €\n",
    "top_sold_product = top_sold_product.sort_values(by = 'sales(€)', ascending = False)\n",
    "top_sold_product.head()"
   ]
  },
  {
   "cell_type": "markdown",
   "id": "4a9be28e",
   "metadata": {},
   "source": [
    "#### Maintenant récupérons les 20 meilleurs produits et visualisons les."
   ]
  },
  {
   "cell_type": "code",
   "execution_count": 22,
   "id": "130ebae2",
   "metadata": {},
   "outputs": [
    {
     "data": {
      "image/png": "[encoded data removed]",
      "text/plain": [
       "<Figure size 800x400 with 1 Axes>"
      ]
     },
     "metadata": {},
     "output_type": "display_data"
    }
   ],
   "source": [
    "top_20_sales = top_sold_product.head(20)\n",
    "top_20_sales\n",
    "\n",
    "x_value = top_20_sales['Item Name']\n",
    "y_value = top_20_sales['sales(€)']\n",
    "\n",
    "plt.figure(figsize=(8, 4))\n",
    "plt.bar(x_value, y_value, color = color)\n",
    "plt.plot(x_value, y_value, color = 'blue', marker = 'o')\n",
    "plt.title('Chiffre d\\'affaire par produit')\n",
    "plt.xlabel('Nom des produits')\n",
    "plt.ylabel('Chiffre d\\'affaire(€)')\n",
    "\n",
    "plt.xticks(rotation=90)\n",
    "\n",
    "plt.show()"
   ]
  },
  {
   "cell_type": "markdown",
   "id": "d3368b82",
   "metadata": {},
   "source": [
    "##### Les Broccoli nous rapportent plus d'argent  que les autres produits, on devait beaucoup miser sur ça et n'en jamais en manquer dans nos stocks.\n",
    "\n",
    "On remarque aussi que les produits sont vendus par-rapport à la quantité qu'il y a avait en stock. Si on analyse le graphique précédents, les produits qui avaient plus de quantité nous rapporte plus d'argent.\n",
    "\n",
    "CCL: Plus de quantité de produit augmente notre CA"
   ]
  },
  {
   "cell_type": "markdown",
   "id": "078679ef",
   "metadata": {},
   "source": [
    "# EVOLUTION DES VENTES PAR ANNEE"
   ]
  },
  {
   "cell_type": "code",
   "execution_count": 23,
   "id": "f74fe6da",
   "metadata": {},
   "outputs": [],
   "source": [
    "#Création de la colonne année\n",
    "data_product_sales['year'] = data_product_sales['Date'].dt.year\n"
   ]
  },
  {
   "cell_type": "markdown",
   "id": "2309d5a8",
   "metadata": {},
   "source": [
    "#### Regroupement du chiffre d'affaire par année"
   ]
  },
  {
   "cell_type": "code",
   "execution_count": 24,
   "id": "af86deab",
   "metadata": {},
   "outputs": [
    {
     "data": {
      "image/png": "[encoded data removed]",
      "text/plain": [
       "<Figure size 640x480 with 1 Axes>"
      ]
     },
     "metadata": {},
     "output_type": "display_data"
    },
    {
     "data": {
      "image/png": "[encoded data removed]",
      "text/plain": [
       "<Figure size 600x600 with 1 Axes>"
      ]
     },
     "metadata": {},
     "output_type": "display_data"
    }
   ],
   "source": [
    "sales_by_year = data_product_sales.groupby('year')['sales(€)'].sum()\n",
    "sales_by_year = sales_by_year.sort_values(ascending = True)\n",
    "\n",
    "\n",
    "plt.bar(sales_by_year.index, sales_by_year.values/100)\n",
    "#plt.plot(sales_by_year.index, sales_by_year.values)\n",
    "plt.figure(figsize=(6,6))\n",
    "plt.pie(sales_by_year, labels = sales_by_year.index,  startangle=140, autopct='%1.f%%')\n",
    "plt.title('répartition des ventes par année')\n",
    "\n",
    "plt.show()"
   ]
  },
  {
   "cell_type": "markdown",
   "id": "27bbc817",
   "metadata": {},
   "source": [
    "CCL: Sans compter l'année en cours(2023), on voit que l'année 2020 a eu moins de ventes que les autres, on aurait tendance à évoquer la pandémie mondiale comme source de causalité entre les ventes de cette année 2020 et le CA. \n",
    "En revanche l'année 2021  avec un peu plus de 32% de part de chiffre d'affaire sur les 4ans"
   ]
  },
  {
   "cell_type": "markdown",
   "id": "4351c6dc",
   "metadata": {},
   "source": [
    "## Evolution de ventes par mois depuis 2021"
   ]
  },
  {
   "cell_type": "code",
   "execution_count": 25,
   "id": "57528bec",
   "metadata": {},
   "outputs": [],
   "source": [
    "## Création d'une colonne mois\n",
    "data_product_sales['Months'] = data_product_sales['Date'].dt.month\n",
    "data_product_sales\n",
    "\n",
    "sales_by_months = data_product_sales.groupby(['Months'])['Quantity Sold (kilo)'].sum()\n",
    "\n",
    "#Création d'un Df\n",
    "df_sales_by_months = pd.DataFrame({'Mois' : sales_by_months.index,\n",
    "                                  'Total quantité (Kg)': sales_by_months.values})"
   ]
  },
  {
   "cell_type": "code",
   "execution_count": 26,
   "id": "01a905ce",
   "metadata": {},
   "outputs": [
    {
     "data": {
      "image/png": "[encoded data removed]",
      "text/plain": [
       "<Figure size 1400x600 with 1 Axes>"
      ]
     },
     "metadata": {},
     "output_type": "display_data"
    }
   ],
   "source": [
    "## Visualisation\n",
    "plt.figure(figsize=(14, 6))\n",
    "plt.bar(df_sales_by_months['Mois'], df_sales_by_months['Total quantité (Kg)'], color = color)\n",
    "plt.plot(df_sales_by_months['Mois'], df_sales_by_months['Total quantité (Kg)'], color = 'black', marker = 'o')\n",
    "\n",
    "\n",
    "plt.title('Quantité totales Vendues par mois pendant 3 ans')\n",
    "plt.xlabel('Mois')\n",
    "plt.ylabel('Quantité totale')\n",
    "\n",
    "plt.show()"
   ]
  },
  {
   "cell_type": "markdown",
   "id": "4b13839e",
   "metadata": {},
   "source": [
    "## Dans notre dataset, il y a des produits qui ont été retournés, on peut les analyser "
   ]
  },
  {
   "cell_type": "code",
   "execution_count": 27,
   "id": "ca6720d5",
   "metadata": {},
   "outputs": [
    {
     "data": {
      "image/png": "[encoded data removed]",
      "text/plain": [
       "<Figure size 640x480 with 1 Axes>"
      ]
     },
     "metadata": {},
     "output_type": "display_data"
    }
   ],
   "source": [
    "sales_or_return = merged_data_sell['Sale or Return'].value_counts()\n",
    "df_sales_or_return = pd.DataFrame(sales_or_return)\n",
    "\n",
    "plt.bar(sales_or_return.index, sales_or_return.values, color = 'lightblue')\n",
    "plt.show()"
   ]
  },
  {
   "cell_type": "markdown",
   "id": "3710fb87",
   "metadata": {},
   "source": [
    "#### Sur les 3 ans, on a pratiquement pas de retour de produit, on a eu plus de vente que de retour ce qui est une bonne chose pour 'entreprise, on doit continuer dans cette voix là"
   ]
  },
  {
   "cell_type": "code",
   "execution_count": 28,
   "id": "b1dad931",
   "metadata": {},
   "outputs": [
    {
     "data": {
      "text/html": [
       "<div>\n",
       "<style scoped>\n",
       "    .dataframe tbody tr th:only-of-type {\n",
       "        vertical-align: middle;\n",
       "    }\n",
       "\n",
       "    .dataframe tbody tr th {\n",
       "        vertical-align: top;\n",
       "    }\n",
       "\n",
       "    .dataframe thead th {\n",
       "        text-align: right;\n",
       "    }\n",
       "</style>\n",
       "<table border=\"1\" class=\"dataframe\">\n",
       "  <thead>\n",
       "    <tr style=\"text-align: right;\">\n",
       "      <th></th>\n",
       "      <th>Sale or Return</th>\n",
       "    </tr>\n",
       "  </thead>\n",
       "  <tbody>\n",
       "    <tr>\n",
       "      <th>sale</th>\n",
       "      <td>878042</td>\n",
       "    </tr>\n",
       "    <tr>\n",
       "      <th>return</th>\n",
       "      <td>461</td>\n",
       "    </tr>\n",
       "  </tbody>\n",
       "</table>\n",
       "</div>"
      ],
      "text/plain": [
       "        Sale or Return\n",
       "sale            878042\n",
       "return             461"
      ]
     },
     "execution_count": 28,
     "metadata": {},
     "output_type": "execute_result"
    }
   ],
   "source": [
    "df_sales_or_return"
   ]
  },
  {
   "cell_type": "markdown",
   "id": "cc5e04d3",
   "metadata": {},
   "source": [
    "# ESSAYONS DE PREDIRE LE PRIX VENTES de 2023"
   ]
  },
  {
   "cell_type": "markdown",
   "id": "857e2379",
   "metadata": {},
   "source": [
    "### On va traviller que avec les données de 2023, comme l'année n'est pas encore terminée, ça sera bien de prédire les prix "
   ]
  },
  {
   "cell_type": "markdown",
   "id": "d8fc145e",
   "metadata": {},
   "source": [
    "#### On récupère les données des produits VENDUS de 2023"
   ]
  },
  {
   "cell_type": "code",
   "execution_count": 29,
   "id": "51b0f793",
   "metadata": {},
   "outputs": [
    {
     "data": {
      "text/html": [
       "<div>\n",
       "<style scoped>\n",
       "    .dataframe tbody tr th:only-of-type {\n",
       "        vertical-align: middle;\n",
       "    }\n",
       "\n",
       "    .dataframe tbody tr th {\n",
       "        vertical-align: top;\n",
       "    }\n",
       "\n",
       "    .dataframe thead th {\n",
       "        text-align: right;\n",
       "    }\n",
       "</style>\n",
       "<table border=\"1\" class=\"dataframe\">\n",
       "  <thead>\n",
       "    <tr style=\"text-align: right;\">\n",
       "      <th></th>\n",
       "      <th>Date</th>\n",
       "      <th>Time</th>\n",
       "      <th>Item Code</th>\n",
       "      <th>Quantity Sold (kilo)</th>\n",
       "      <th>Unit Selling Price (RMB/kg)</th>\n",
       "      <th>Sale or Return</th>\n",
       "      <th>Discount (Yes/No)</th>\n",
       "      <th>Item Name</th>\n",
       "      <th>Category Code</th>\n",
       "      <th>Category Name</th>\n",
       "    </tr>\n",
       "  </thead>\n",
       "  <tbody>\n",
       "    <tr>\n",
       "      <th>39948</th>\n",
       "      <td>2023-01-25</td>\n",
       "      <td>19:02:28.032</td>\n",
       "      <td>102900005115960</td>\n",
       "      <td>0.852</td>\n",
       "      <td>1.8</td>\n",
       "      <td>sale</td>\n",
       "      <td>No</td>\n",
       "      <td>Chinese Cabbage</td>\n",
       "      <td>1011010101</td>\n",
       "      <td>Flower/Leaf Vegetables</td>\n",
       "    </tr>\n",
       "    <tr>\n",
       "      <th>39949</th>\n",
       "      <td>2023-01-25</td>\n",
       "      <td>19:57:14.47</td>\n",
       "      <td>102900005115960</td>\n",
       "      <td>1.250</td>\n",
       "      <td>1.8</td>\n",
       "      <td>sale</td>\n",
       "      <td>No</td>\n",
       "      <td>Chinese Cabbage</td>\n",
       "      <td>1011010101</td>\n",
       "      <td>Flower/Leaf Vegetables</td>\n",
       "    </tr>\n",
       "    <tr>\n",
       "      <th>39950</th>\n",
       "      <td>2023-01-25</td>\n",
       "      <td>21:11:36.245</td>\n",
       "      <td>102900005115960</td>\n",
       "      <td>1.364</td>\n",
       "      <td>1.8</td>\n",
       "      <td>sale</td>\n",
       "      <td>No</td>\n",
       "      <td>Chinese Cabbage</td>\n",
       "      <td>1011010101</td>\n",
       "      <td>Flower/Leaf Vegetables</td>\n",
       "    </tr>\n",
       "    <tr>\n",
       "      <th>39951</th>\n",
       "      <td>2023-01-25</td>\n",
       "      <td>21:31:38.282</td>\n",
       "      <td>102900005115960</td>\n",
       "      <td>0.341</td>\n",
       "      <td>1.8</td>\n",
       "      <td>sale</td>\n",
       "      <td>No</td>\n",
       "      <td>Chinese Cabbage</td>\n",
       "      <td>1011010101</td>\n",
       "      <td>Flower/Leaf Vegetables</td>\n",
       "    </tr>\n",
       "    <tr>\n",
       "      <th>39952</th>\n",
       "      <td>2023-01-26</td>\n",
       "      <td>16:39:26.547</td>\n",
       "      <td>102900005115960</td>\n",
       "      <td>0.455</td>\n",
       "      <td>1.8</td>\n",
       "      <td>sale</td>\n",
       "      <td>No</td>\n",
       "      <td>Chinese Cabbage</td>\n",
       "      <td>1011010101</td>\n",
       "      <td>Flower/Leaf Vegetables</td>\n",
       "    </tr>\n",
       "  </tbody>\n",
       "</table>\n",
       "</div>"
      ],
      "text/plain": [
       "            Date          Time        Item Code  Quantity Sold (kilo)  \\\n",
       "39948 2023-01-25  19:02:28.032  102900005115960                 0.852   \n",
       "39949 2023-01-25   19:57:14.47  102900005115960                 1.250   \n",
       "39950 2023-01-25  21:11:36.245  102900005115960                 1.364   \n",
       "39951 2023-01-25  21:31:38.282  102900005115960                 0.341   \n",
       "39952 2023-01-26  16:39:26.547  102900005115960                 0.455   \n",
       "\n",
       "       Unit Selling Price (RMB/kg) Sale or Return Discount (Yes/No)  \\\n",
       "39948                          1.8           sale                No   \n",
       "39949                          1.8           sale                No   \n",
       "39950                          1.8           sale                No   \n",
       "39951                          1.8           sale                No   \n",
       "39952                          1.8           sale                No   \n",
       "\n",
       "             Item Name  Category Code           Category Name  \n",
       "39948  Chinese Cabbage     1011010101  Flower/Leaf Vegetables  \n",
       "39949  Chinese Cabbage     1011010101  Flower/Leaf Vegetables  \n",
       "39950  Chinese Cabbage     1011010101  Flower/Leaf Vegetables  \n",
       "39951  Chinese Cabbage     1011010101  Flower/Leaf Vegetables  \n",
       "39952  Chinese Cabbage     1011010101  Flower/Leaf Vegetables  "
      ]
     },
     "execution_count": 29,
     "metadata": {},
     "output_type": "execute_result"
    }
   ],
   "source": [
    "data_2023 = merged_data_sell[merged_data_sell['Date'].dt.year == 2023]\n",
    "\n",
    "data_sold_2023 = data_2023[data_2023['Sale or Return'] == 'sale']\n",
    "data_sold_2023.head()"
   ]
  },
  {
   "cell_type": "markdown",
   "id": "86d11609",
   "metadata": {},
   "source": [
    "## On va faire une prédiction sur les prix de vente "
   ]
  },
  {
   "cell_type": "code",
   "execution_count": 30,
   "id": "0b763d18",
   "metadata": {},
   "outputs": [
    {
     "data": {
      "text/html": [
       "<div>\n",
       "<style scoped>\n",
       "    .dataframe tbody tr th:only-of-type {\n",
       "        vertical-align: middle;\n",
       "    }\n",
       "\n",
       "    .dataframe tbody tr th {\n",
       "        vertical-align: top;\n",
       "    }\n",
       "\n",
       "    .dataframe thead th {\n",
       "        text-align: right;\n",
       "    }\n",
       "</style>\n",
       "<table border=\"1\" class=\"dataframe\">\n",
       "  <thead>\n",
       "    <tr style=\"text-align: right;\">\n",
       "      <th></th>\n",
       "      <th>index</th>\n",
       "      <th>Date</th>\n",
       "      <th>Time</th>\n",
       "      <th>Item Code</th>\n",
       "      <th>Quantity Sold (kilo)</th>\n",
       "      <th>Unit Selling Price (RMB/kg)</th>\n",
       "      <th>Sale or Return</th>\n",
       "      <th>Discount (Yes/No)</th>\n",
       "      <th>Item Name</th>\n",
       "      <th>Category Code</th>\n",
       "      <th>Category Name</th>\n",
       "    </tr>\n",
       "  </thead>\n",
       "  <tbody>\n",
       "    <tr>\n",
       "      <th>0</th>\n",
       "      <td>39948</td>\n",
       "      <td>2023-01-25</td>\n",
       "      <td>19:02:28.032</td>\n",
       "      <td>102900005115960</td>\n",
       "      <td>0.852</td>\n",
       "      <td>1.8</td>\n",
       "      <td>sale</td>\n",
       "      <td>No</td>\n",
       "      <td>Chinese Cabbage</td>\n",
       "      <td>1011010101</td>\n",
       "      <td>Flower/Leaf Vegetables</td>\n",
       "    </tr>\n",
       "    <tr>\n",
       "      <th>1</th>\n",
       "      <td>39949</td>\n",
       "      <td>2023-01-25</td>\n",
       "      <td>19:57:14.47</td>\n",
       "      <td>102900005115960</td>\n",
       "      <td>1.250</td>\n",
       "      <td>1.8</td>\n",
       "      <td>sale</td>\n",
       "      <td>No</td>\n",
       "      <td>Chinese Cabbage</td>\n",
       "      <td>1011010101</td>\n",
       "      <td>Flower/Leaf Vegetables</td>\n",
       "    </tr>\n",
       "    <tr>\n",
       "      <th>2</th>\n",
       "      <td>39950</td>\n",
       "      <td>2023-01-25</td>\n",
       "      <td>21:11:36.245</td>\n",
       "      <td>102900005115960</td>\n",
       "      <td>1.364</td>\n",
       "      <td>1.8</td>\n",
       "      <td>sale</td>\n",
       "      <td>No</td>\n",
       "      <td>Chinese Cabbage</td>\n",
       "      <td>1011010101</td>\n",
       "      <td>Flower/Leaf Vegetables</td>\n",
       "    </tr>\n",
       "    <tr>\n",
       "      <th>3</th>\n",
       "      <td>39951</td>\n",
       "      <td>2023-01-25</td>\n",
       "      <td>21:31:38.282</td>\n",
       "      <td>102900005115960</td>\n",
       "      <td>0.341</td>\n",
       "      <td>1.8</td>\n",
       "      <td>sale</td>\n",
       "      <td>No</td>\n",
       "      <td>Chinese Cabbage</td>\n",
       "      <td>1011010101</td>\n",
       "      <td>Flower/Leaf Vegetables</td>\n",
       "    </tr>\n",
       "    <tr>\n",
       "      <th>4</th>\n",
       "      <td>39952</td>\n",
       "      <td>2023-01-26</td>\n",
       "      <td>16:39:26.547</td>\n",
       "      <td>102900005115960</td>\n",
       "      <td>0.455</td>\n",
       "      <td>1.8</td>\n",
       "      <td>sale</td>\n",
       "      <td>No</td>\n",
       "      <td>Chinese Cabbage</td>\n",
       "      <td>1011010101</td>\n",
       "      <td>Flower/Leaf Vegetables</td>\n",
       "    </tr>\n",
       "    <tr>\n",
       "      <th>...</th>\n",
       "      <td>...</td>\n",
       "      <td>...</td>\n",
       "      <td>...</td>\n",
       "      <td>...</td>\n",
       "      <td>...</td>\n",
       "      <td>...</td>\n",
       "      <td>...</td>\n",
       "      <td>...</td>\n",
       "      <td>...</td>\n",
       "      <td>...</td>\n",
       "      <td>...</td>\n",
       "    </tr>\n",
       "    <tr>\n",
       "      <th>129868</th>\n",
       "      <td>878498</td>\n",
       "      <td>2023-06-21</td>\n",
       "      <td>16:30:43.092</td>\n",
       "      <td>102900011036686</td>\n",
       "      <td>1.000</td>\n",
       "      <td>3.9</td>\n",
       "      <td>sale</td>\n",
       "      <td>No</td>\n",
       "      <td>Muercai (Bag)</td>\n",
       "      <td>1011010101</td>\n",
       "      <td>Flower/Leaf Vegetables</td>\n",
       "    </tr>\n",
       "    <tr>\n",
       "      <th>129869</th>\n",
       "      <td>878499</td>\n",
       "      <td>2023-06-23</td>\n",
       "      <td>18:47:46.777</td>\n",
       "      <td>102900011036686</td>\n",
       "      <td>1.000</td>\n",
       "      <td>3.9</td>\n",
       "      <td>sale</td>\n",
       "      <td>No</td>\n",
       "      <td>Muercai (Bag)</td>\n",
       "      <td>1011010101</td>\n",
       "      <td>Flower/Leaf Vegetables</td>\n",
       "    </tr>\n",
       "    <tr>\n",
       "      <th>129870</th>\n",
       "      <td>878500</td>\n",
       "      <td>2023-06-27</td>\n",
       "      <td>20:48:10.998</td>\n",
       "      <td>102900011036686</td>\n",
       "      <td>1.000</td>\n",
       "      <td>3.9</td>\n",
       "      <td>sale</td>\n",
       "      <td>Yes</td>\n",
       "      <td>Muercai (Bag)</td>\n",
       "      <td>1011010101</td>\n",
       "      <td>Flower/Leaf Vegetables</td>\n",
       "    </tr>\n",
       "    <tr>\n",
       "      <th>129871</th>\n",
       "      <td>878501</td>\n",
       "      <td>2023-06-29</td>\n",
       "      <td>19:14:35.799</td>\n",
       "      <td>102900011036686</td>\n",
       "      <td>1.000</td>\n",
       "      <td>2.3</td>\n",
       "      <td>sale</td>\n",
       "      <td>Yes</td>\n",
       "      <td>Muercai (Bag)</td>\n",
       "      <td>1011010101</td>\n",
       "      <td>Flower/Leaf Vegetables</td>\n",
       "    </tr>\n",
       "    <tr>\n",
       "      <th>129872</th>\n",
       "      <td>878502</td>\n",
       "      <td>2023-06-30</td>\n",
       "      <td>11:57:30.376</td>\n",
       "      <td>102900011036686</td>\n",
       "      <td>1.000</td>\n",
       "      <td>3.9</td>\n",
       "      <td>sale</td>\n",
       "      <td>No</td>\n",
       "      <td>Muercai (Bag)</td>\n",
       "      <td>1011010101</td>\n",
       "      <td>Flower/Leaf Vegetables</td>\n",
       "    </tr>\n",
       "  </tbody>\n",
       "</table>\n",
       "<p>129873 rows × 11 columns</p>\n",
       "</div>"
      ],
      "text/plain": [
       "         index       Date          Time        Item Code  \\\n",
       "0        39948 2023-01-25  19:02:28.032  102900005115960   \n",
       "1        39949 2023-01-25   19:57:14.47  102900005115960   \n",
       "2        39950 2023-01-25  21:11:36.245  102900005115960   \n",
       "3        39951 2023-01-25  21:31:38.282  102900005115960   \n",
       "4        39952 2023-01-26  16:39:26.547  102900005115960   \n",
       "...        ...        ...           ...              ...   \n",
       "129868  878498 2023-06-21  16:30:43.092  102900011036686   \n",
       "129869  878499 2023-06-23  18:47:46.777  102900011036686   \n",
       "129870  878500 2023-06-27  20:48:10.998  102900011036686   \n",
       "129871  878501 2023-06-29  19:14:35.799  102900011036686   \n",
       "129872  878502 2023-06-30  11:57:30.376  102900011036686   \n",
       "\n",
       "        Quantity Sold (kilo)  Unit Selling Price (RMB/kg) Sale or Return  \\\n",
       "0                      0.852                          1.8           sale   \n",
       "1                      1.250                          1.8           sale   \n",
       "2                      1.364                          1.8           sale   \n",
       "3                      0.341                          1.8           sale   \n",
       "4                      0.455                          1.8           sale   \n",
       "...                      ...                          ...            ...   \n",
       "129868                 1.000                          3.9           sale   \n",
       "129869                 1.000                          3.9           sale   \n",
       "129870                 1.000                          3.9           sale   \n",
       "129871                 1.000                          2.3           sale   \n",
       "129872                 1.000                          3.9           sale   \n",
       "\n",
       "       Discount (Yes/No)        Item Name  Category Code  \\\n",
       "0                     No  Chinese Cabbage     1011010101   \n",
       "1                     No  Chinese Cabbage     1011010101   \n",
       "2                     No  Chinese Cabbage     1011010101   \n",
       "3                     No  Chinese Cabbage     1011010101   \n",
       "4                     No  Chinese Cabbage     1011010101   \n",
       "...                  ...              ...            ...   \n",
       "129868                No    Muercai (Bag)     1011010101   \n",
       "129869                No    Muercai (Bag)     1011010101   \n",
       "129870               Yes    Muercai (Bag)     1011010101   \n",
       "129871               Yes    Muercai (Bag)     1011010101   \n",
       "129872                No    Muercai (Bag)     1011010101   \n",
       "\n",
       "                 Category Name  \n",
       "0       Flower/Leaf Vegetables  \n",
       "1       Flower/Leaf Vegetables  \n",
       "2       Flower/Leaf Vegetables  \n",
       "3       Flower/Leaf Vegetables  \n",
       "4       Flower/Leaf Vegetables  \n",
       "...                        ...  \n",
       "129868  Flower/Leaf Vegetables  \n",
       "129869  Flower/Leaf Vegetables  \n",
       "129870  Flower/Leaf Vegetables  \n",
       "129871  Flower/Leaf Vegetables  \n",
       "129872  Flower/Leaf Vegetables  \n",
       "\n",
       "[129873 rows x 11 columns]"
      ]
     },
     "execution_count": 30,
     "metadata": {},
     "output_type": "execute_result"
    }
   ],
   "source": [
    "sell = merged_data_sell[merged_data_sell['Sale or Return'] == 'sale']\n",
    "\n",
    "sell_2023 = sell[sell['Date'].dt.year == 2023]\n",
    "sell_2023.reset_index()"
   ]
  },
  {
   "cell_type": "markdown",
   "id": "d32e0b59",
   "metadata": {},
   "source": [
    "### Définition de la fonction de prédiction par-raport à la quantité "
   ]
  },
  {
   "cell_type": "code",
   "execution_count": 31,
   "id": "b3f026a4",
   "metadata": {},
   "outputs": [
    {
     "data": {
      "text/plain": [
       "\"def predict_price(quantity:float):\\n    copy_df = merged_data_sell.copy()\\n    #On va trouver le prix par rapport à la distance des quantités,\\n    #je vais ajouter une colonne distance eucludienne au df broccoli_sold_in_2023\\n    \\n    copy_df['Distance_eucludienne'] = copy_df['Quantity Sold (kilo)'].apply(lambda quantity_needed: np.abs(quantity_needed - quantity))\\n\\n    # Il faut trier cette colonne car nous voulons les meilleurs distances(ou petites), donc les voisins les plus proches\\n    copy_df = copy_df.sort_values(by = 'Distance_eucludienne')\\n    \\n    # et on récupère les 5 plus proches voisins en fonction de la disctance sur la colonne prix puisque c'est ça que nous voulons prédire\\n    five_nearest_neighbors = copy_df['Unit Selling Price (RMB/kg)'].head(5)\\n    \\n    return five_nearest_neighbors.mean() #On retourn la moyenne pour avoir le prix voulu/quantité\\n\\n#print(predict_price(0.536112))\""
      ]
     },
     "execution_count": 31,
     "metadata": {},
     "output_type": "execute_result"
    }
   ],
   "source": [
    "\"\"\"def predict_price(quantity:float):\n",
    "    copy_df = merged_data_sell.copy()\n",
    "    #On va trouver le prix par rapport à la distance des quantités,\n",
    "    #je vais ajouter une colonne distance eucludienne au df broccoli_sold_in_2023\n",
    "    \n",
    "    copy_df['Distance_eucludienne'] = copy_df['Quantity Sold (kilo)'].apply(lambda quantity_needed: np.abs(quantity_needed - quantity))\n",
    "\n",
    "    # Il faut trier cette colonne car nous voulons les meilleurs distances(ou petites), donc les voisins les plus proches\n",
    "    copy_df = copy_df.sort_values(by = 'Distance_eucludienne')\n",
    "    \n",
    "    # et on récupère les 5 plus proches voisins en fonction de la disctance sur la colonne prix puisque c'est ça que nous voulons prédire\n",
    "    five_nearest_neighbors = copy_df['Unit Selling Price (RMB/kg)'].head(5)\n",
    "    \n",
    "    return five_nearest_neighbors.mean() #On retourn la moyenne pour avoir le prix voulu/quantité\n",
    "\n",
    "#print(predict_price(0.536112))\"\"\""
   ]
  },
  {
   "cell_type": "code",
   "execution_count": 37,
   "id": "d82eb8b0",
   "metadata": {},
   "outputs": [
    {
     "name": "stdout",
     "output_type": "stream",
     "text": [
      "R² =  71 % --> Le modèle est bon\n"
     ]
    }
   ],
   "source": [
    "from sklearn.neighbors import KNeighborsRegressor\n",
    "from sklearn.metrics import mean_squared_error, r2_score\n",
    "from sklearn.model_selection import train_test_split\n",
    "\n",
    "sell_2023['mois'] = sell_2023['Date'].dt.month\n",
    "\n",
    "\n",
    "# Sélection des caractéristiques et de la cible (Ce que nous voulons prédire)\n",
    "features = ['mois', 'Quantity Sold (kilo)', 'Category Code']\n",
    "\n",
    "target = 'Unit Selling Price (RMB/kg)'\n",
    "\n",
    "X = sell_2023[features]\n",
    "\n",
    "y = sell_2023[target]\n",
    "\n",
    "# Division des données en ensembles d'entraînement et de test\n",
    "X_train, X_test, y_train, y_test = train_test_split(X, y, test_size=0.2, random_state=42)\n",
    "\n",
    "# Création et ajustement du modèle KNN Regressor\n",
    "\n",
    "\n",
    "knn = KNeighborsRegressor(n_neighbors=5)\n",
    "knn.fit(X_train, y_train)\n",
    "\n",
    "# Prédiction sur le set de test\n",
    "predictions = knn.predict(X_test)\n",
    "\n",
    "# Evaluation du modèle en calculant les métriques comme \n",
    "\n",
    "R2 = r2_score(y_test, predictions)\n",
    "l.append(R2)\n",
    "\n",
    "\n",
    "print(\"R² = \", round(R2*100),'% --> Le modèle est bon')"
   ]
  },
  {
   "cell_type": "code",
   "execution_count": 33,
   "id": "6ba7172c",
   "metadata": {},
   "outputs": [
    {
     "data": {
      "text/html": [
       "<div>\n",
       "<style scoped>\n",
       "    .dataframe tbody tr th:only-of-type {\n",
       "        vertical-align: middle;\n",
       "    }\n",
       "\n",
       "    .dataframe tbody tr th {\n",
       "        vertical-align: top;\n",
       "    }\n",
       "\n",
       "    .dataframe thead th {\n",
       "        text-align: right;\n",
       "    }\n",
       "</style>\n",
       "<table border=\"1\" class=\"dataframe\">\n",
       "  <thead>\n",
       "    <tr style=\"text-align: right;\">\n",
       "      <th></th>\n",
       "      <th>mois</th>\n",
       "      <th>Category Code</th>\n",
       "      <th>Quantity Sold (kilo)</th>\n",
       "      <th>predicted_prices</th>\n",
       "      <th>Unit Selling Price (RMB/kg)</th>\n",
       "    </tr>\n",
       "  </thead>\n",
       "  <tbody>\n",
       "    <tr>\n",
       "      <th>39948</th>\n",
       "      <td>1</td>\n",
       "      <td>1011010101</td>\n",
       "      <td>0.852</td>\n",
       "      <td>11.96</td>\n",
       "      <td>1.8</td>\n",
       "    </tr>\n",
       "    <tr>\n",
       "      <th>39949</th>\n",
       "      <td>1</td>\n",
       "      <td>1011010101</td>\n",
       "      <td>1.250</td>\n",
       "      <td>4.26</td>\n",
       "      <td>1.8</td>\n",
       "    </tr>\n",
       "    <tr>\n",
       "      <th>39950</th>\n",
       "      <td>1</td>\n",
       "      <td>1011010101</td>\n",
       "      <td>1.364</td>\n",
       "      <td>4.00</td>\n",
       "      <td>1.8</td>\n",
       "    </tr>\n",
       "    <tr>\n",
       "      <th>39951</th>\n",
       "      <td>1</td>\n",
       "      <td>1011010101</td>\n",
       "      <td>0.341</td>\n",
       "      <td>13.52</td>\n",
       "      <td>1.8</td>\n",
       "    </tr>\n",
       "    <tr>\n",
       "      <th>39952</th>\n",
       "      <td>1</td>\n",
       "      <td>1011010101</td>\n",
       "      <td>0.455</td>\n",
       "      <td>4.94</td>\n",
       "      <td>1.8</td>\n",
       "    </tr>\n",
       "    <tr>\n",
       "      <th>...</th>\n",
       "      <td>...</td>\n",
       "      <td>...</td>\n",
       "      <td>...</td>\n",
       "      <td>...</td>\n",
       "      <td>...</td>\n",
       "    </tr>\n",
       "    <tr>\n",
       "      <th>412160</th>\n",
       "      <td>1</td>\n",
       "      <td>1011010501</td>\n",
       "      <td>0.430</td>\n",
       "      <td>4.54</td>\n",
       "      <td>14.0</td>\n",
       "    </tr>\n",
       "    <tr>\n",
       "      <th>412161</th>\n",
       "      <td>1</td>\n",
       "      <td>1011010501</td>\n",
       "      <td>0.516</td>\n",
       "      <td>5.50</td>\n",
       "      <td>14.0</td>\n",
       "    </tr>\n",
       "    <tr>\n",
       "      <th>412162</th>\n",
       "      <td>1</td>\n",
       "      <td>1011010501</td>\n",
       "      <td>0.301</td>\n",
       "      <td>24.00</td>\n",
       "      <td>14.0</td>\n",
       "    </tr>\n",
       "    <tr>\n",
       "      <th>412163</th>\n",
       "      <td>1</td>\n",
       "      <td>1011010501</td>\n",
       "      <td>0.810</td>\n",
       "      <td>5.20</td>\n",
       "      <td>14.0</td>\n",
       "    </tr>\n",
       "    <tr>\n",
       "      <th>412164</th>\n",
       "      <td>1</td>\n",
       "      <td>1011010501</td>\n",
       "      <td>0.351</td>\n",
       "      <td>16.12</td>\n",
       "      <td>14.0</td>\n",
       "    </tr>\n",
       "  </tbody>\n",
       "</table>\n",
       "<p>25975 rows × 5 columns</p>\n",
       "</div>"
      ],
      "text/plain": [
       "        mois  Category Code  Quantity Sold (kilo)  predicted_prices  \\\n",
       "39948      1     1011010101                 0.852             11.96   \n",
       "39949      1     1011010101                 1.250              4.26   \n",
       "39950      1     1011010101                 1.364              4.00   \n",
       "39951      1     1011010101                 0.341             13.52   \n",
       "39952      1     1011010101                 0.455              4.94   \n",
       "...      ...            ...                   ...               ...   \n",
       "412160     1     1011010501                 0.430              4.54   \n",
       "412161     1     1011010501                 0.516              5.50   \n",
       "412162     1     1011010501                 0.301             24.00   \n",
       "412163     1     1011010501                 0.810              5.20   \n",
       "412164     1     1011010501                 0.351             16.12   \n",
       "\n",
       "        Unit Selling Price (RMB/kg)  \n",
       "39948                           1.8  \n",
       "39949                           1.8  \n",
       "39950                           1.8  \n",
       "39951                           1.8  \n",
       "39952                           1.8  \n",
       "...                             ...  \n",
       "412160                         14.0  \n",
       "412161                         14.0  \n",
       "412162                         14.0  \n",
       "412163                         14.0  \n",
       "412164                         14.0  \n",
       "\n",
       "[25975 rows x 5 columns]"
      ]
     },
     "execution_count": 33,
     "metadata": {},
     "output_type": "execute_result"
    }
   ],
   "source": [
    "predicted_prices_data = sell_2023[:len(predictions)]\n",
    "\n",
    "predicted_prices_data['predicted_prices'] = predictions\n",
    "\n",
    "predicted_prices_data = predicted_prices_data[['mois', 'Category Code' , 'Quantity Sold (kilo)', 'predicted_prices', 'Unit Selling Price (RMB/kg)']]\n",
    "\n",
    "predicted_prices_data"
   ]
  }
 ],
 "metadata": {
  "kernelspec": {
   "display_name": "Python 3 (ipykernel)",
   "language": "python",
   "name": "python3"
  },
  "language_info": {
   "codemirror_mode": {
    "name": "ipython",
    "version": 3
   },
   "file_extension": ".py",
   "mimetype": "text/x-python",
   "name": "python",
   "nbconvert_exporter": "python",
   "pygments_lexer": "ipython3",
   "version": "3.9.13"
  }
 },
 "nbformat": 4,
 "nbformat_minor": 5
}
